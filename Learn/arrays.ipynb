{
 "cells": [
  {
   "cell_type": "markdown",
   "id": "73ad0441-63e7-4ff8-b7bb-871f6cd96552",
   "metadata": {
    "tags": []
   },
   "source": [
    "# Моя первая программа на Питоне\n",
    "\n",
    "решает уравнение\n",
    "        A<sub>x,y,t<sub>d</sub>,t<sub>s</sub></sub> X<sub>x,y,t<sub>s</sub></sub> = n<sub>t<sub>d</sub></sub>\n",
    "методом наименьших квадратов.\n",
    "Решение X ограничено условием неотрицательности X<sub>*</sub> >= 0, поскольку речь идет о числе частиц.\n",
    "В стандартной библиотеке SciPy наличествуют две реализации этого метода: <strong>nnls</strong> и <strong>lsq_linear</strong>. В последнем реализованы два метода решения и возможно задание разнообразных ограничений.\n",
    "Как выяснилось в процессе, <strong>nnls</strong> по каким-то причинам не справляется с данной задачей. Также, из двух методов в <strong>lsq_linear</strong>, работает только один. Это довольно странно, учитывая, что реализации заимствовались, скорее всего, из LAPACK или MINPACK, где всё работает как часы, так сказать, издревле. Тем более, что в SciKit-Learn и, как я понял, в TensorFlow тоже, реализации метода наименьших квадратов основаны на <strong>nnls</strong>.\n",
    "\n",
    "## Вернемся к заданию.\n",
    "\n",
    "<strong>lsq_linear</strong> сработал, невязки во всех случаях (см.ниже) оказались порядка 10<sup>-12</sup>, что неудивительно для недоопределенной задачи.\n",
    "Как можно оценить координату источника \"через точку минимальной невязки\", я, честно говоря не понял. Невязки чего? Уравнения? Так они на уровне ошибок округления, это не победить. Время начала испускания частиц также не было представлено в условиях.\n",
    "Поскольку речь в задаче идет о переносе частиц, логично предположить, что величины в последовательные моменты времени коррелированы. Попытка оценить <em>средний</em> коэффициент корреляции (процедура Хилдрета—Лу, Дарбина - вообще-то, авторов там гораздо больше; всё это открывалось и переоткрывалось неоднократно) к успеху не привела. Результаты практически не меняются для разных r, что, опять же, можно списать на недоопределенность задачи. По той же причине (нулевые остатки), не проводилась и коррекция через регрессию остатков и обобщенный МНК.\n",
    "В качестве ответа выдается серия картинок восстановленого значения X<sub>t<sub>d</sub></sub> для t<sub>d</sub> = 0..9 и разных значениях коэффициента автокорреляции.\n",
    "Возможно, из картинок удастся получить какую-то полезную информацию.\n",
    "\n",
    "## О тестировании\n",
    "\n",
    "Не понял. Стандартную библиотеку? Ну вот, два из трех опробованных вариантов не сработали.\n",
    "Стандартная же процедура: реализуем, по возможности, всё. Оставляем выживших.\n",
    "Полновесное тестирование метода решения выходит за рамки тестового задания.\n",
    "Это, впрочем, можно обсудить.\n",
    "\n",
    "## CUDA и распараллеливание\n",
    "\n",
    "Где-то я читал, что существует вариант NumPy, скомпилированный с Intel MKL (скорее всего, не бесплатный). В MKL встроены TBB (многоядерность) и/или OpenCL (многоядерность и графические ускорители). Не нашел сходу.\n",
    "Была надежда, что в TensorFlow найдется реализация сингулярного разложения хотя бы для CUDA, но увы.\n",
    "Еще я надеялся потестировать разложение на основе степенного алгоритма - почто 100% параллелизуется. Мне почему-то,- по статьям, конечно,- казалось, что реализация дошла до питоновских библиотек. Нет. В наличии только для MATLAB'a.\n",
    "Может, я плохо искал, но в общем, впечатление довольно удручающее.\n",
    "\n",
    "Реализовывать и отрабатывать эти алгоритмы - задача явно не для тестового задания.\n",
    "Втыкать известные реализации библиотек линейной алгебры (типа Paralution)- ну зачем это для теста. Они все на С++,\n",
    "нехота заморачиваться с интерфейсными проблемами, ведь оберткой только для одной функции тут не отделаешься.\n",
    "\n",
    "# Запуск\n",
    "\n",
    "Не будучи специалистом по Питону, могу только пересказать инструкцию:\n",
    " - установите Anaconda по инструкции, дальнейшие действия в командной строке.\n",
    " - установите тестовую среду: conda env create -f schooltech.yml.Сам файл в корневом каталоге.\n",
    " - запустите jupyter lab и загрузите Learn/arrays.ipynb\n",
    " - альтернативно, запустите spyder и загрузите assignment.py\n",
    " - альтернативно, выполните команду python assignment.py. В этом случае картинки придется убивать вручную, что неудобно. Извините, я не успел разобраться.  \n",
    " \n",
    "Содержимое Learn/arrays.ipynb и assignment.py совпадает. \n",
    "\n",
    "# Залючительные соображения\n",
    "\n",
    "Благодарю за повод поизучать Питон. Может и пригодится.\n"
   ]
  },
  {
   "cell_type": "code",
   "execution_count": 57,
   "id": "41675888",
   "metadata": {},
   "outputs": [],
   "source": [
    "import math\n",
    "import numpy as np\n",
    "from scipy.optimize import lsq_linear  #method = 'trf' or 'bvls'\n",
    "import matplotlib.pyplot as plt\n",
    "from IPython.display import clear_output"
   ]
  },
  {
   "cell_type": "code",
   "execution_count": 58,
   "id": "105d27a5-9938-4fbe-bc85-51acb3e3697a",
   "metadata": {
    "tags": []
   },
   "outputs": [],
   "source": [
    "def get_levels(d_l,d_r, saxs = True) :\n",
    "    \"\"\"Function returning levelset.\"\"\"\n",
    "    if saxs :\n",
    "        pmin, pmax = (max(np.ndarray.min(d_l), np.ndarray.min(d_r)),\n",
    "                      min(np.ndarray.max(d_l), np.ndarray.max(d_r)))\n",
    "        levelsx = np.linspace(pmin, pmax, 15)\n",
    "        levelsy = levelsx\n",
    "    else :\n",
    "        pmin, pmax = np.ndarray.min(d_l), np.ndarray.max(d_l)\n",
    "        levelsx = np.linspace(pmin, pmax, 15)\n",
    "        pmin, pmax = np.ndarray.min(d_r), np.ndarray.max(d_r)\n",
    "        levelsy = np.linspace(pmin, pmax, 15)\n",
    "    return levelsx,levelsy"
   ]
  },
  {
   "cell_type": "code",
   "execution_count": 59,
   "id": "dc223159-1028-4900-b7cf-5b85f37cf4f9",
   "metadata": {
    "tags": []
   },
   "outputs": [],
   "source": [
    "def show_steps(title_l,data_l,title_r,data_r, sameaxs = True) :\n",
    "    \"\"\"Function drawing result by first index.\"\"\"\n",
    "    plt.style.use('_mpl-gallery-nogrid')\n",
    "    xp, yp = (np.meshgrid(np.linspace(0, data_l.shape[1], data_l.shape[1]),\n",
    "                          np.linspace(0, data_l.shape[1], data_l.shape[1])))\n",
    "    lx,ly = get_levels(data_l,data_r,sameaxs)\n",
    "    for k in range(0,x.shape[0]) :\n",
    "        clear_output(wait=True)\n",
    "        fig, axs = plt.subplots(1, 2, figsize=(8, 5))\n",
    "        axs[0].set_title(title_l)\n",
    "        axs[1].set_title(title_r)\n",
    "        axs[0].invert_yaxis()\n",
    "        axs[1].invert_yaxis()\n",
    "        cf  = axs[0].contourf(xp,yp,np.flip(data_l[k,:,:],1).T, levels=lx)\n",
    "        cf1 = axs[1].contourf(xp,yp,np.flip(data_r[k,:,:],1).T, levels=ly)\n",
    "        fig.colorbar(cf)\n",
    "        fig.colorbar(cf1)\n",
    "        fig.tight_layout()\n",
    "        plt.show()\n",
    "        input(\"Press Enter to continue...\")"
   ]
  },
  {
   "cell_type": "code",
   "execution_count": 60,
   "id": "5a43c465",
   "metadata": {},
   "outputs": [],
   "source": [
    "mtx_file = \"../Data/Anomaly/A.npy\"\n",
    "rhs_file = \"../Data/Anomaly/n.csv\"\n",
    "verbose = 0\n",
    "do_as_written = False # switches between LS and NNLS"
   ]
  },
  {
   "cell_type": "code",
   "execution_count": 61,
   "id": "d1367116-4e9e-45d1-9759-4753c3fb4044",
   "metadata": {
    "tags": []
   },
   "outputs": [],
   "source": [
    "mtx = np.load(mtx_file)\n",
    "assert mtx.ndim == 4, \"Dimension of the input array inconsistent with the specification\"\n",
    "mtx = mtx.reshape(mtx.shape, order = 'F')"
   ]
  },
  {
   "cell_type": "code",
   "execution_count": 62,
   "id": "c81c930e-b29c-4467-bf0e-a423bac2aa4d",
   "metadata": {
    "tags": []
   },
   "outputs": [],
   "source": [
    "shape = mtx.shape # need it later for drawing\n",
    "mtx = np.swapaxes(mtx,0,2) # (x,y,d,s) -> (d,y,x,s)\n",
    "row = np.prod(mtx.shape[1:4])\n",
    "mtx = mtx.reshape( (mtx.shape[0], row), order = 'F')"
   ]
  },
  {
   "cell_type": "code",
   "execution_count": 63,
   "id": "83b0ee17-4205-431f-b05f-481935b08d62",
   "metadata": {
    "tags": []
   },
   "outputs": [],
   "source": [
    "rhs = np.loadtxt(rhs_file)\n",
    "#plt.plot(np.linspace(0, rhs.shape[0], rhs.shape[0]), rhs, 'o', label='rhs')"
   ]
  },
  {
   "cell_type": "code",
   "execution_count": 64,
   "id": "fa43f2fa-ef4e-4d32-b2c6-eda56cee5886",
   "metadata": {
    "tags": []
   },
   "outputs": [],
   "source": [
    "assert rhs.size == mtx.shape[0], \"RHS size do not match\"\n",
    "mtx0 = mtx\n",
    "rhs0 = rhs"
   ]
  },
  {
   "cell_type": "code",
   "execution_count": 65,
   "id": "e48cdc95-f037-4987-a0c5-ebfb1732334e",
   "metadata": {
    "tags": []
   },
   "outputs": [
    {
     "data": {
      "image/png": "[encoded data removed]",
      "text/plain": [
       "<Figure size 800x500 with 4 Axes>"
      ]
     },
     "metadata": {},
     "output_type": "display_data"
    },
    {
     "ename": "KeyboardInterrupt",
     "evalue": "Interrupted by user",
     "output_type": "error",
     "traceback": [
      "\u001b[0;31m---------------------------------------------------------------------------\u001b[0m",
      "\u001b[0;31mKeyboardInterrupt\u001b[0m                         Traceback (most recent call last)",
      "Cell \u001b[0;32mIn[65], line 28\u001b[0m\n\u001b[1;32m     26\u001b[0m s \u001b[38;5;241m=\u001b[39m \u001b[38;5;124mf\u001b[39m\u001b[38;5;124m\"\u001b[39m\u001b[38;5;124mnonnegative solution, r=\u001b[39m\u001b[38;5;132;01m{\u001b[39;00mr\u001b[38;5;132;01m:\u001b[39;00m\u001b[38;5;124m4.1f\u001b[39m\u001b[38;5;132;01m}\u001b[39;00m\u001b[38;5;124m\"\u001b[39m\n\u001b[1;32m     27\u001b[0m t \u001b[38;5;241m=\u001b[39m \u001b[38;5;124mf\u001b[39m\u001b[38;5;124m\"\u001b[39m\u001b[38;5;124munconstrained, r=\u001b[39m\u001b[38;5;132;01m{\u001b[39;00mr\u001b[38;5;132;01m:\u001b[39;00m\u001b[38;5;124m4.1f\u001b[39m\u001b[38;5;132;01m}\u001b[39;00m\u001b[38;5;124m\"\u001b[39m\n\u001b[0;32m---> 28\u001b[0m show_steps(s,x,t,y, sameaxs \u001b[38;5;241m=\u001b[39m \u001b[38;5;28;01mTrue\u001b[39;00m)\n",
      "Cell \u001b[0;32mIn[59], line 20\u001b[0m, in \u001b[0;36mshow_steps\u001b[0;34m(title_l, data_l, title_r, data_r, sameaxs)\u001b[0m\n\u001b[1;32m     18\u001b[0m fig\u001b[38;5;241m.\u001b[39mtight_layout()\n\u001b[1;32m     19\u001b[0m plt\u001b[38;5;241m.\u001b[39mshow()\n\u001b[0;32m---> 20\u001b[0m \u001b[38;5;28minput\u001b[39m(\u001b[38;5;124m\"\u001b[39m\u001b[38;5;124mPress Enter to continue...\u001b[39m\u001b[38;5;124m\"\u001b[39m)\n",
      "File \u001b[0;32m~/Projects/Python/anaconda/envs/schooltech/lib/python3.11/site-packages/ipykernel/kernelbase.py:1175\u001b[0m, in \u001b[0;36mKernel.raw_input\u001b[0;34m(self, prompt)\u001b[0m\n\u001b[1;32m   1171\u001b[0m \u001b[38;5;28;01mif\u001b[39;00m \u001b[38;5;129;01mnot\u001b[39;00m \u001b[38;5;28mself\u001b[39m\u001b[38;5;241m.\u001b[39m_allow_stdin:\n\u001b[1;32m   1172\u001b[0m     \u001b[38;5;28;01mraise\u001b[39;00m StdinNotImplementedError(\n\u001b[1;32m   1173\u001b[0m         \u001b[38;5;124m\"\u001b[39m\u001b[38;5;124mraw_input was called, but this frontend does not support input requests.\u001b[39m\u001b[38;5;124m\"\u001b[39m\n\u001b[1;32m   1174\u001b[0m     )\n\u001b[0;32m-> 1175\u001b[0m \u001b[38;5;28;01mreturn\u001b[39;00m \u001b[38;5;28mself\u001b[39m\u001b[38;5;241m.\u001b[39m_input_request(\n\u001b[1;32m   1176\u001b[0m     \u001b[38;5;28mstr\u001b[39m(prompt),\n\u001b[1;32m   1177\u001b[0m     \u001b[38;5;28mself\u001b[39m\u001b[38;5;241m.\u001b[39m_parent_ident[\u001b[38;5;124m\"\u001b[39m\u001b[38;5;124mshell\u001b[39m\u001b[38;5;124m\"\u001b[39m],\n\u001b[1;32m   1178\u001b[0m     \u001b[38;5;28mself\u001b[39m\u001b[38;5;241m.\u001b[39mget_parent(\u001b[38;5;124m\"\u001b[39m\u001b[38;5;124mshell\u001b[39m\u001b[38;5;124m\"\u001b[39m),\n\u001b[1;32m   1179\u001b[0m     password\u001b[38;5;241m=\u001b[39m\u001b[38;5;28;01mFalse\u001b[39;00m,\n\u001b[1;32m   1180\u001b[0m )\n",
      "File \u001b[0;32m~/Projects/Python/anaconda/envs/schooltech/lib/python3.11/site-packages/ipykernel/kernelbase.py:1217\u001b[0m, in \u001b[0;36mKernel._input_request\u001b[0;34m(self, prompt, ident, parent, password)\u001b[0m\n\u001b[1;32m   1214\u001b[0m             \u001b[38;5;28;01mbreak\u001b[39;00m\n\u001b[1;32m   1215\u001b[0m \u001b[38;5;28;01mexcept\u001b[39;00m \u001b[38;5;167;01mKeyboardInterrupt\u001b[39;00m:\n\u001b[1;32m   1216\u001b[0m     \u001b[38;5;66;03m# re-raise KeyboardInterrupt, to truncate traceback\u001b[39;00m\n\u001b[0;32m-> 1217\u001b[0m     \u001b[38;5;28;01mraise\u001b[39;00m \u001b[38;5;167;01mKeyboardInterrupt\u001b[39;00m(\u001b[38;5;124m\"\u001b[39m\u001b[38;5;124mInterrupted by user\u001b[39m\u001b[38;5;124m\"\u001b[39m) \u001b[38;5;28;01mfrom\u001b[39;00m \u001b[38;5;28;01mNone\u001b[39;00m\n\u001b[1;32m   1218\u001b[0m \u001b[38;5;28;01mexcept\u001b[39;00m \u001b[38;5;167;01mException\u001b[39;00m:\n\u001b[1;32m   1219\u001b[0m     \u001b[38;5;28mself\u001b[39m\u001b[38;5;241m.\u001b[39mlog\u001b[38;5;241m.\u001b[39mwarning(\u001b[38;5;124m\"\u001b[39m\u001b[38;5;124mInvalid Message:\u001b[39m\u001b[38;5;124m\"\u001b[39m, exc_info\u001b[38;5;241m=\u001b[39m\u001b[38;5;28;01mTrue\u001b[39;00m)\n",
      "\u001b[0;31mKeyboardInterrupt\u001b[0m: Interrupted by user"
     ]
    }
   ],
   "source": [
    "for r in np.linspace(-1.0,1.0,5) :\n",
    "    for d in range(1,mtx.shape[0]) :\n",
    "        mtx[d,:] = mtx0[d,:] - r*mtx0[d-1,:]\n",
    "        rhs[d]   = rhs0[d] - r*rhs0[d-1]\n",
    "    mtx[0,:] = math.sqrt(1.0 - r*r) * mtx0[0,:]\n",
    "    rhs[0]   = math.sqrt(1.0 - r*r) * rhs0[0]\n",
    "    if do_as_written :               # precisely as written: solve AX = b\n",
    "        result = np.linalg.lstsq(mtx, rhs, rcond = None)\n",
    "        x, y = result.x, result.x\n",
    "    else :                           # the number of particles cannot be negative\n",
    "        result = lsq_linear(mtx,rhs,\n",
    "                            bounds=(0.0, +np.inf), \n",
    "                            method = 'bvls', \n",
    "                            verbose = verbose)\n",
    "        x, y = result.x, result.unbounded_sol[0]\n",
    "        if verbose > 0 : \n",
    "            residuals = result.fun\n",
    "            print(\"residuals from nonnegative solution\")\n",
    "            print(residuals)\n",
    "            print(\"residuals from unconstrained solution\")\n",
    "            print(np.dot(mtx0,y) - rhs0)\n",
    "    x = x.reshape(shape[0],shape[1],shape[3])\n",
    "    y = y.reshape(shape[0],shape[1],shape[3])\n",
    "    x[0,:,:] = x[0,:,:] * (1.0 - r) \n",
    "    y[0,:,:] = y[0,:,:] * (1.0 - r)\n",
    "    s = f\"nonnegative solution, r={r:4.1f}\"\n",
    "    t = f\"unconstrained, r={r:4.1f}\"\n",
    "    show_steps(s,x,t,y, sameaxs = True)    "
   ]
  },
  {
   "cell_type": "code",
   "execution_count": null,
   "id": "955a304d-95b8-4cf1-8b7e-48e6b4f72015",
   "metadata": {},
   "outputs": [],
   "source": [
    "# cuda should be here: https://www.tensorflow.org/api_docs/python/tf/linalg/lstsq"
   ]
  }
 ],
 "metadata": {
  "kernelspec": {
   "display_name": "schooltech",
   "language": "python",
   "name": "schooltech"
  },
  "language_info": {
   "codemirror_mode": {
    "name": "ipython",
    "version": 3
   },
   "file_extension": ".py",
   "mimetype": "text/x-python",
   "name": "python",
   "nbconvert_exporter": "python",
   "pygments_lexer": "ipython3",
   "version": "3.11.4"
  }
 },
 "nbformat": 4,
 "nbformat_minor": 5
}
