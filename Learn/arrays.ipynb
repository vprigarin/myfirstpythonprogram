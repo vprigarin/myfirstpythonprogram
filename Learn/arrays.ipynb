{
 "cells": [
  {
   "cell_type": "markdown",
   "id": "73ad0441-63e7-4ff8-b7bb-871f6cd96552",
   "metadata": {},
   "source": [
    "# Моя первая программа на Питоне\n",
    "\n",
    "решает уравнение\n",
    "        A<sub>x,y,t<sub>d</sub>,t<sub>s</sub></sub> X<sub>x,y,t<sub>s</sub></sub> = n<sub>t<sub>d</sub></sub>\n",
    "методом наименьших квадратов.\n",
    "Решение X ограничено условием неотрицательности X<sub>*</sub> >= 0, поскольку речь идет о числе частиц.\n",
    "В стандартной библиотеке SciPy наличествуют две реализации этого метода: <strong>nnls</strong> и <strong>lsq_linear</strong>. В последнем реализованы два метода решения и возможно задание разнообразных ограничений.\n",
    "Как выяснилось в процессе, <strong>nnls</strong> по каким-то причинам не справляется с данной задачей. Также, из двух методов в <strong>lsq_linear</strong>, работает только один. Это довольно странно, учитывая, что реализации заимствовались, скорее всего, из LAPACK или MINPACK, где всё работает как часы, так сказать, издревле. Тем более, что в SciKit-Learn и, как я понял, в TensorFlow тоже, реализации метода наименьших квадратов основаны на <strong>nnls</strong>.\n",
    "\n",
    "## Вернемся к заданию.\n",
    "\n",
    "<strong>lsq_linear</strong> сработал, невязки во всех случаях (см.ниже) оказались порядка 10<sup>-12</sup>, что неудивительно для недоопределенной задачи.\n",
    "Как можно оценить координату источника \"через точку минимальной невязки\", я, честно говоря не понял. Невязки чего? Уравнения? Так они на уровне ошибок округления, это не победить. Время начала испускания частиц также не было представлено в условиях.\n",
    "Поскольку речь в задаче идет о переносе частиц, логично предположить, что величины в последовательные моменты времени коррелированы. Попытка оценить <em>средний</em> коэффициент корреляции (процедура Хилдрета—Лу, Дарбина - вообще-то, авторов там гораздо больше; всё это открывалось и переоткрывалось неоднократно) к успеху не привела. Результаты практически не меняются для разных r, что, опять же, можно списать на недоопределенность задачи. По той же причине (нулевые остатки), не проводилась и коррекция через регрессию остатков и обобщенный МНК.\n",
    "В качестве ответа выдается серия картинок восстановленого значения X<sub>t<sub>d</sub></sub> для t<sub>d</sub> = 0..9 и разных значениях коэффициента автокорреляции.\n",
    "Возможно, из картинок удастся получить какую-то полезную информацию.\n",
    "\n",
    "## О тестировании\n",
    "\n",
    "Не понял. Стандартную библиотеку? Ну вот, два из трех опробованных вариантов не сработали.\n",
    "Стандартная же процедура: реализуем, по возможности, всё. Оставляем выживших.\n",
    "Полновесное тестирование метода решения выходит за рамки тестового задания.\n",
    "Это, впрочем, можно обсудить.\n",
    "\n",
    "## CUDA и распараллеливание\n",
    "\n",
    "Где-то я читал, что существует вариант NumPy, скомпилированный с Intel MKL (скорее всего, не бесплатный). В MKL встроены TBB (многоядерность) и/или OpenCL (многоядерность и графические ускорители). Не нашел сходу.\n",
    "Была надежда, что в TensorFlow найдется реализация сингулярного разложения хотя бы для CUDA, но увы.\n",
    "Еще я надеялся потестировать разложение на основе степенного алгоритма - почто 100% параллелизуется. Мне почему-то,- по статьям, конечно,- казалось, что реализация дошла до питоновских библиотек. Нет. В наличии только для MATLAB'a.\n",
    "Может, я плохо искал, но в общем, впечатление довольно удручающее.\n",
    "\n",
    "Реализовывать и отрабатывать эти алгоритмы - задача явно не для тестового задания.\n",
    "Втыкать известные реализации библиотек линейной алгебры (типа Paralution)- ну зачем это для теста. Они все на С++,\n",
    "нехота заморачиваться с интерфейсными проблемами, ведь оберткой только для одной функции тут не отделаешься.\n",
    "\n",
    "# Запуск\n",
    "\n",
    "Не будучи специалистом по Питону, могу только пересказать инструкцию:\n",
    " - установите Anaconda по инструкции, дальнейшие действия в командной строке.\n",
    " - установите тестовую среду: conda env create -f schooltech.yml.Сам файл в корневом каталоге.\n",
    " - запустите jupyter lab и загрузите Learn/arrays.ipynb\n",
    " - альтернативно, запустите spyder и загрузите assignment.py\n",
    " - альтернативно, выполните команду python assignment.py. В этом случае картинки придется убивать вручную, что неудобно. Извините, я не успел разобраться.  \n",
    " \n",
    "Содержимое Learn/arrays.ipynb и assignment.py совпадает. \n",
    "\n",
    "# Залючительные соображения\n",
    "\n",
    "Благодарю за повод поизучать Питон. Может и пригодится.\n"
   ]
  },
  {
   "cell_type": "code",
   "execution_count": 270,
   "id": "41675888",
   "metadata": {},
   "outputs": [],
   "source": [
    "import numpy as np\n",
    "import matplotlib.pyplot as plt"
   ]
  },
  {
   "cell_type": "code",
   "execution_count": 271,
   "id": "dc223159-1028-4900-b7cf-5b85f37cf4f9",
   "metadata": {
    "tags": []
   },
   "outputs": [],
   "source": [
    "def show_steps(t,x,t1,y, sameaxs = True) :\n",
    "    from IPython.display import clear_output\n",
    "    plt.style.use('_mpl-gallery-nogrid')\n",
    "    xp, yp = np.meshgrid(np.linspace(0, 10, 10), np.linspace(0, 10, 10))\n",
    "    if sameaxs :\n",
    "        pmin = max(np.ndarray.min(x),np.ndarray.min(y))\n",
    "        pmax = min(np.ndarray.max(x),np.ndarray.max(y))\n",
    "        levelsx = np.linspace(pmin, pmax, 15)\n",
    "        levelsy = levelsx\n",
    "    else :\n",
    "        pmin, pmax = np.ndarray.min(x), np.ndarray.max(x)\n",
    "        levelsx = np.linspace(pmin, pmax, 15)\n",
    "        pmin, pmax = np.ndarray.min(y), np.ndarray.max(y)\n",
    "        levelsy = np.linspace(pmin, pmax, 15)\n",
    "        \n",
    "    for k in range(0,x.shape[0]) :\n",
    "        clear_output(wait=True)\n",
    "        fig, axs = plt.subplots(1, 2, figsize=(8, 5))\n",
    "        axs[0].set_title(t)\n",
    "        axs[1].set_title(t1)\n",
    "        axs[0].invert_yaxis()\n",
    "        axs[1].invert_yaxis()\n",
    "        cf  = axs[0].contourf(xp,yp,np.flip(x[k,:,:],1).T, levels=levelsx) \n",
    "        cf1 = axs[1].contourf(xp,yp,np.flip(y[k,:,:],1).T, levels=levelsy) \n",
    "        cbar  = fig.colorbar(cf)\n",
    "        cbar1 = fig.colorbar(cf1)\n",
    "        fig.tight_layout()\n",
    "        plt.show()\n",
    "        input(\"Press Enter to continue...\")"
   ]
  },
  {
   "cell_type": "code",
   "execution_count": 272,
   "id": "5a43c465",
   "metadata": {},
   "outputs": [],
   "source": [
    "mtxFile = \"../Data/Anomaly/A.npy\"\n",
    "rhsFile = \"../Data/Anomaly/n.csv\"\n",
    "verbose = 0\n",
    "do_as_written = False # switches between LS and NNLS"
   ]
  },
  {
   "cell_type": "code",
   "execution_count": 273,
   "id": "d1367116-4e9e-45d1-9759-4753c3fb4044",
   "metadata": {
    "tags": []
   },
   "outputs": [],
   "source": [
    "mtx = np.load(mtxFile)\n",
    "assert mtx.ndim == 4, \"Dimension of the input array inconsistent with the specification\"\n",
    "mtx = mtx.reshape(mtx.shape, order = 'F')"
   ]
  },
  {
   "cell_type": "code",
   "execution_count": 274,
   "id": "c81c930e-b29c-4467-bf0e-a423bac2aa4d",
   "metadata": {
    "tags": []
   },
   "outputs": [],
   "source": [
    "shape = mtx.shape # need it later for drawing\n",
    "mtx = np.swapaxes(mtx,0,2) # (x,y,d,s) -> (d,y,x,s)\n",
    "row = np.prod(mtx.shape[1:4])\n",
    "mtx = mtx.reshape( (mtx.shape[0], row), order = 'F')"
   ]
  },
  {
   "cell_type": "code",
   "execution_count": 275,
   "id": "83b0ee17-4205-431f-b05f-481935b08d62",
   "metadata": {
    "tags": []
   },
   "outputs": [],
   "source": [
    "rhs = np.loadtxt(rhsFile)\n",
    "#plt.plot(np.linspace(0, 10, 10), rhs, 'o', label='rhs')"
   ]
  },
  {
   "cell_type": "code",
   "execution_count": 276,
   "id": "fa43f2fa-ef4e-4d32-b2c6-eda56cee5886",
   "metadata": {
    "tags": []
   },
   "outputs": [],
   "source": [
    "assert rhs.size == mtx.shape[0], \"RHS size do not match\"\n",
    "mtx0 = mtx\n",
    "rhs0 = rhs"
   ]
  },
  {
   "cell_type": "code",
   "execution_count": 277,
   "id": "e48cdc95-f037-4987-a0c5-ebfb1732334e",
   "metadata": {
    "tags": []
   },
   "outputs": [
    {
     "data": {
      "image/png": "[encoded data removed]",
      "text/plain": [
       "<Figure size 800x500 with 4 Axes>"
      ]
     },
     "metadata": {},
     "output_type": "display_data"
    },
    {
     "name": "stdin",
     "output_type": "stream",
     "text": [
      "Press Enter to continue... \n"
     ]
    }
   ],
   "source": [
    "import math\n",
    "for r in np.linspace(-1.0,1.0,5) :\n",
    "    for d in range(1,mtx.shape[0]) :\n",
    "        mtx[d,:] = mtx0[d,:] - r*mtx0[d-1,:]\n",
    "        rhs[d]   = rhs0[d] - r*rhs0[d-1]\n",
    "    mtx[0,:] = math.sqrt(1.0 - r*r) * mtx0[0,:]\n",
    "    rhs[0]   = math.sqrt(1.0 - r*r) * rhs0[0]    \n",
    "    if do_as_written : # precisely as written: solve AX = b\n",
    "        result = np.linalg.lstsq(mtx, rhs, rcond = None)\n",
    "        x = result.x\n",
    "        y = x\n",
    "    else :             # the number of particles cannot be negative\n",
    "        from scipy.optimize import lsq_linear  #method = 'trf' or 'bvls'\n",
    "        result = lsq_linear(mtx,rhs,bounds=(0.0, +np.inf), method = 'bvls', verbose = verbose)\n",
    "        x = result.x\n",
    "        y = result.unbounded_sol[0]\n",
    "        if verbose > 0 : \n",
    "            residuals = result.fun\n",
    "            print(\"residuals from nonnegative solution\")\n",
    "            print(residuals)\n",
    "            print(\"residuals from unconstrained solution\")\n",
    "            print(np.dot(mtx0,y) - rhs0)\n",
    "    x = x.reshape(shape[0],shape[1],shape[3])\n",
    "    y = y.reshape(shape[0],shape[1],shape[3])\n",
    "    x[0,:,:] = x[0,:,:] * (1.0 - r) \n",
    "    y[0,:,:] = y[0,:,:] * (1.0 - r)\n",
    "    s = \"nonnegative solution, r={0:4.1f}\".format(r)\n",
    "    t = \"unconstrained, r={0:4.1f}\".format(r)\n",
    "    show_steps(s,x,t,y, sameaxs = True)    "
   ]
  },
  {
   "cell_type": "code",
   "execution_count": null,
   "id": "955a304d-95b8-4cf1-8b7e-48e6b4f72015",
   "metadata": {},
   "outputs": [],
   "source": [
    "# cuda should be here: https://www.tensorflow.org/api_docs/python/tf/linalg/lstsq"
   ]
  }
 ],
 "metadata": {
  "kernelspec": {
   "display_name": "schooltech",
   "language": "python",
   "name": "schooltech"
  },
  "language_info": {
   "codemirror_mode": {
    "name": "ipython",
    "version": 3
   },
   "file_extension": ".py",
   "mimetype": "text/x-python",
   "name": "python",
   "nbconvert_exporter": "python",
   "pygments_lexer": "ipython3",
   "version": "3.11.4"
  }
 },
 "nbformat": 4,
 "nbformat_minor": 5
}
